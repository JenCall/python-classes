{
  "nbformat": 4,
  "nbformat_minor": 0,
  "metadata": {
    "colab": {
      "provenance": []
    },
    "kernelspec": {
      "name": "python3",
      "display_name": "Python 3"
    },
    "language_info": {
      "name": "python"
    }
  },
  "cells": [
    {
      "cell_type": "markdown",
      "source": [
        "##Week 2 Class - 23/10/2024"
      ],
      "metadata": {
        "id": "tThG-I3q-SoX"
      }
    },
    {
      "cell_type": "markdown",
      "source": [
        "Here’s a list of 10 exercises for our hands-on practice during tutorial."
      ],
      "metadata": {
        "id": "zxp9UuZYvyiV"
      }
    },
    {
      "cell_type": "markdown",
      "source": [
        "###1. Sum of Positive\n"
      ],
      "metadata": {
        "id": "tErk88Vdv-PD"
      }
    },
    {
      "cell_type": "markdown",
      "source": [
        "**Description**: You get an array of numbers, return the sum of all of the positives ones. [Question & Examples](https://www.codewars.com/kata/5715eaedb436cf5606000381)."
      ],
      "metadata": {
        "id": "y6n23_VBwNaS"
      }
    },
    {
      "cell_type": "code",
      "source": [],
      "metadata": {
        "id": "XRKCl9Fs-Utr"
      },
      "execution_count": null,
      "outputs": []
    },
    {
      "cell_type": "markdown",
      "source": [
        "###2. Find the Smallest Integer in the Array"
      ],
      "metadata": {
        "id": "xOix_J3hwnmh"
      }
    },
    {
      "cell_type": "markdown",
      "source": [
        "**Description**: Given an array of integers your solution should find the smallest integer.\n",
        "\n",
        "For example:\n",
        "*   Given [4, 10, 80, 2] your solution will return 2\n",
        "*   Given [34, -345, -1] your solution will return -345\n",
        "\n",
        "You can assume, for the purpose of this kata, that the supplied array will not be empty.\n"
      ],
      "metadata": {
        "id": "5m0E6dKJwuLd"
      }
    },
    {
      "cell_type": "code",
      "source": [],
      "metadata": {
        "id": "Rz6-sFq7wtWU"
      },
      "execution_count": null,
      "outputs": []
    },
    {
      "cell_type": "markdown",
      "source": [
        "###3. Two Sum"
      ],
      "metadata": {
        "id": "jHsoTMq4xHkC"
      }
    },
    {
      "cell_type": "markdown",
      "source": [
        "**Description**: Given an array of integers and an integer target, return indices of the two numbers such that they add up to target.\n",
        "\n",
        "You may assume that each input would have exactly one solution, and you may not use the same element twice.\n",
        "\n",
        "You can return the answer in any order. [Question & examples](https://leetcode.com/problems/two-sum/)"
      ],
      "metadata": {
        "id": "Bkc0b0z_xQOt"
      }
    },
    {
      "cell_type": "code",
      "source": [],
      "metadata": {
        "id": "-v3izcvixJOo"
      },
      "execution_count": null,
      "outputs": []
    },
    {
      "cell_type": "markdown",
      "source": [
        "###4. Palindrome Number"
      ],
      "metadata": {
        "id": "hNqWcmoSxtXa"
      }
    },
    {
      "cell_type": "markdown",
      "source": [
        "**Description**: Determine if a given integer reads the same backward as forward. [Question & examples](https://leetcode.com/problems/palindrome-number/)"
      ],
      "metadata": {
        "id": "BTN_YIa1xv4C"
      }
    },
    {
      "cell_type": "code",
      "source": [],
      "metadata": {
        "id": "wT2ROXjyxvRV"
      },
      "execution_count": null,
      "outputs": []
    },
    {
      "cell_type": "markdown",
      "source": [
        "###5. Palindrome Text"
      ],
      "metadata": {
        "id": "Bc6-rmwHyAfP"
      }
    },
    {
      "cell_type": "markdown",
      "source": [
        "**Description**: Determine if a given integer reads the same backward as forward. [Question & examples](https://leetcode.com/problems/palindrome-number/)"
      ],
      "metadata": {
        "id": "6xujPidSyED1"
      }
    },
    {
      "cell_type": "code",
      "source": [],
      "metadata": {
        "id": "TMh8fQmZyCMb"
      },
      "execution_count": null,
      "outputs": []
    },
    {
      "cell_type": "markdown",
      "source": [
        "###6. Merge Two Sorted Lists"
      ],
      "metadata": {
        "id": "1KNgpE5VyHbw"
      }
    },
    {
      "cell_type": "markdown",
      "source": [
        "   **Description**: Write a function that takes two sorted linked lists and returns a merged sorted linked list. [Question & examples](https://leetcode.com/problems/merge-two-sorted-lists/)"
      ],
      "metadata": {
        "id": "8C5JD6OYyKK3"
      }
    },
    {
      "cell_type": "code",
      "source": [],
      "metadata": {
        "id": "dHkwTa-tyIho"
      },
      "execution_count": null,
      "outputs": []
    },
    {
      "cell_type": "markdown",
      "source": [
        "###7. Python If-Else\n"
      ],
      "metadata": {
        "id": "sBTYyISnzD6Q"
      }
    },
    {
      "cell_type": "markdown",
      "source": [
        "**Description**: Use conditionals to determine different outputs based on the value of an integer. [Question & Examples](https://www.hackerrank.com/challenges/py-if-else/problem)\n"
      ],
      "metadata": {
        "id": "HCIYJvo6zIKS"
      }
    },
    {
      "cell_type": "code",
      "source": [],
      "metadata": {
        "id": "iKleMqBwzHnK"
      },
      "execution_count": null,
      "outputs": []
    },
    {
      "cell_type": "markdown",
      "source": [
        "#### 8. Project Euler\n"
      ],
      "metadata": {
        "id": "PeJrF3m-zV69"
      }
    },
    {
      "cell_type": "markdown",
      "source": [
        "**Description**: Find the sum of all the multiples of 3 or 5 below 1000.  [Question & examples](https://projecteuler.net/problem=1)"
      ],
      "metadata": {
        "id": "pWRmOeHWzaVN"
      }
    },
    {
      "cell_type": "code",
      "source": [],
      "metadata": {
        "id": "4dAHGdvxzZti"
      },
      "execution_count": null,
      "outputs": []
    }
  ]
}